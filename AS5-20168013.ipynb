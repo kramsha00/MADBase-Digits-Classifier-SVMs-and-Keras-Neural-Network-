{
 "cells": [
  {
   "cell_type": "markdown",
   "metadata": {},
   "source": [
    "## University of Bahrain\n",
    "\n",
    "### College of IT\n",
    "\n",
    "#### ITCS494 Machine Learning\n",
    "#### Lab 5. Support Vector Machines (13-12-2020)\n",
    "\n",
    "##### RAMSHA KHALID MUHAMMAD KHALID - 20168013\n",
    "\n",
    "Scikit Learn has a nice library for building SVM models and testing them. We will utilize this library, so it might be helpful to visit its documentation http://scikit-learn.org/stable/modules/svm.html .\n",
    "\n",
    "In this lab you will train a classifier, then calculate the accuracy of the model using what you learned during this course.\n",
    "\n",
    "###### Problem\n",
    "The aim of this lab assignment is to apply your knowledge from SVMs (Lecture 8) to design a classifier for Arabic handwritten digits.\n",
    "\n",
    "###### Dataset\n",
    "Please visit the following website to download the dataset http://datacenter.aucegypt.edu/shazeem/ Use MADBase datasets. You can use the flattened one if you like.\n",
    "\n",
    "###### Tasks\n",
    "\n",
    "We will implement a soft-margin SVM for handwritten digits from the dataset. The classifier is a binary classifier for one-vs-one (one digit is class +1 and another digit is class -1) classification. We will not do all digits, just one classifier as an example for the digit “1” (+1) vs “6” (-1).\n",
    "\n",
    "* Use a linear kernel K(u,v)=uT v. Train and test using all of the data points available. Then redo the fitting of the model using smaller subsets of the training data (i.e. the first 50, 100, 200, 800) and output the accuracy results in a table. [4 points]\n",
    "\n",
    "* Consider the polynomial kernel K(u,v)=(1+uT v)Q, where Q is the degree of the polynomial. Compare Q=2 and Q=5 by training the models and printing their accuracy. [3 points]\n",
    "\n",
    "* Consider the radial basis function (RBF) kernel K(u,v)=exp(-||u-v||2) in the soft-margin SVM. Which value of C in {0.01, 1, 100, 104, 106) results in the lowest error? [3 points]\n",
    " \n",
    "Prepare a Jupyter notebook with the results and submit it on or before the due date."
   ]
  },
  {
   "cell_type": "code",
   "execution_count": 1,
   "metadata": {},
   "outputs": [
    {
     "name": "stdout",
     "output_type": "stream",
     "text": [
      "Requirement already satisfied: pillow in c:\\users\\ramsha\\anaconda3\\lib\\site-packages (7.2.0)\n",
      "Requirement already satisfied: tabulate in c:\\users\\ramsha\\anaconda3\\lib\\site-packages (0.8.7)\n",
      "Requirement already satisfied: sklearn in c:\\users\\ramsha\\anaconda3\\lib\\site-packages (0.0)\n",
      "Requirement already satisfied: scikit-learn in c:\\users\\ramsha\\anaconda3\\lib\\site-packages (from sklearn) (0.23.1)\n",
      "Requirement already satisfied: numpy>=1.13.3 in c:\\users\\ramsha\\anaconda3\\lib\\site-packages (from scikit-learn->sklearn) (1.19.3)\n",
      "Requirement already satisfied: scipy>=0.19.1 in c:\\users\\ramsha\\anaconda3\\lib\\site-packages (from scikit-learn->sklearn) (1.5.0)\n",
      "Requirement already satisfied: joblib>=0.11 in c:\\users\\ramsha\\anaconda3\\lib\\site-packages (from scikit-learn->sklearn) (0.16.0)\n",
      "Requirement already satisfied: threadpoolctl>=2.0.0 in c:\\users\\ramsha\\anaconda3\\lib\\site-packages (from scikit-learn->sklearn) (2.1.0)\n",
      "Requirement already satisfied: numpy in c:\\users\\ramsha\\anaconda3\\lib\\site-packages (1.19.3)\n"
     ]
    }
   ],
   "source": [
    "#necessary library installations\n",
    "\n",
    "!pip install pillow\n",
    "!pip install tabulate\n",
    "!pip install sklearn\n",
    "!pip install numpy"
   ]
  },
  {
   "cell_type": "code",
   "execution_count": 2,
   "metadata": {},
   "outputs": [],
   "source": [
    "#import libraries\n",
    "\n",
    "from PIL import Image\n",
    "import numpy as np\n",
    "import pathlib\n",
    "import random\n",
    "from os import listdir\n",
    "from sklearn.utils import shuffle\n",
    "from sklearn import svm\n",
    "from tabulate import tabulate\n",
    "from sklearn.metrics import accuracy_score\n",
    "from sklearn.metrics import mean_squared_error\n",
    "import matplotlib.pyplot as plt"
   ]
  },
  {
   "cell_type": "code",
   "execution_count": 3,
   "metadata": {},
   "outputs": [],
   "source": [
    "#link to dataset directories for digit one and six\n",
    "train_ones = listdir(\"Training/ONE\")\n",
    "train_sixes = listdir(\"Training/SIX\")\n",
    "\n",
    "test_ones = listdir(\"Testing/ONE\")\n",
    "test_sixes = listdir(\"Testing/SIX\")\n",
    "\n",
    "train_data = []\n",
    "train_label = []\n",
    "\n",
    "test_data = []\n",
    "test_label = []"
   ]
  },
  {
   "cell_type": "code",
   "execution_count": 4,
   "metadata": {},
   "outputs": [
    {
     "data": {
      "text/plain": [
       "(12000, 12000)"
      ]
     },
     "execution_count": 4,
     "metadata": {},
     "output_type": "execute_result"
    }
   ],
   "source": [
    "#read training images from directory and change to array\n",
    "\n",
    "#read all ones and append to training array\n",
    "for image in train_ones:\n",
    "    link = \"Training/ONE/\" + image\n",
    "    if(link.endswith('bmp')):\n",
    "        an_image = Image.open(link)\n",
    "        image_sequence = an_image.getdata()\n",
    "        image_array = np.array(image_sequence)\n",
    "        train_data.append(image_array)\n",
    "        train_label.append(0)\n",
    "\n",
    "#read all sixes and append to training array\n",
    "for image in train_sixes:\n",
    "    link = \"Training/SIX/\" + image\n",
    "    if(link.endswith('bmp')):\n",
    "        an_image = Image.open(link)\n",
    "        image_sequence = an_image.getdata()\n",
    "        image_array = np.array(image_sequence)\n",
    "        train_data.append(image_array)\n",
    "        train_label.append(1)\n",
    "    \n",
    "len(train_data),len(train_label)"
   ]
  },
  {
   "cell_type": "code",
   "execution_count": 5,
   "metadata": {},
   "outputs": [
    {
     "data": {
      "text/plain": [
       "(2000, 2000)"
      ]
     },
     "execution_count": 5,
     "metadata": {},
     "output_type": "execute_result"
    }
   ],
   "source": [
    "#read testing images from directory and change to array\n",
    "\n",
    "#read all ones and append to testing array\n",
    "for image in test_ones:\n",
    "    link = \"Testing/ONE/\" + image\n",
    "    if(link.endswith('bmp')):\n",
    "        an_image = Image.open(link)\n",
    "        image_sequence = an_image.getdata()\n",
    "        image_array = np.array(image_sequence)\n",
    "        test_data.append(image_array)\n",
    "        test_label.append(0)\n",
    "\n",
    "#read all sixes and append to testing array\n",
    "for image in test_sixes:\n",
    "    link = \"Testing/SIX/\" + image\n",
    "    if(link.endswith('bmp')):\n",
    "        an_image = Image.open(link)\n",
    "        image_sequence = an_image.getdata()\n",
    "        image_array = np.array(image_sequence)\n",
    "        test_data.append(image_array)\n",
    "        test_label.append(1)\n",
    "    \n",
    "len(test_data),len(test_label)"
   ]
  },
  {
   "cell_type": "code",
   "execution_count": 6,
   "metadata": {},
   "outputs": [],
   "source": [
    "#random shuffle the training and testing arrays\n",
    "\n",
    "train_data, train_label = shuffle(train_data, train_label)\n",
    "test_data, test_label = shuffle(test_data, test_label)"
   ]
  },
  {
   "cell_type": "code",
   "execution_count": 7,
   "metadata": {},
   "outputs": [],
   "source": [
    "#getting first 20%, 40%, 60% and 80% of train data\n",
    "\n",
    "train_data_20 = train_data[:2400]\n",
    "train_label_20 = train_label[:2400]\n",
    "\n",
    "train_data_40 = train_data[:4800]\n",
    "train_label_40 = train_label[:4800]\n",
    "\n",
    "train_data_60 = train_data[:7200]\n",
    "train_label_60 = train_label[:7200]\n",
    "\n",
    "train_data_80 = train_data[:9600]\n",
    "train_label_80 = train_label[:9600]"
   ]
  },
  {
   "cell_type": "code",
   "execution_count": 8,
   "metadata": {},
   "outputs": [],
   "source": [
    "#define methods to fit, predict and find accuracy and error of models\n",
    "\n",
    "def fit(data, label, model):\n",
    "    return model.fit(data, label)\n",
    "\n",
    "def predict(testData, model):\n",
    "    return model.predict(testData) \n",
    "\n",
    "def findAccuracy(prediction, actual):\n",
    "    return accuracy_score(actual, prediction)\n",
    "\n",
    "def meanSquaredError(prediction, actual):\n",
    "    return mean_squared_error(actual, prediction)"
   ]
  },
  {
   "cell_type": "code",
   "execution_count": 9,
   "metadata": {},
   "outputs": [
    {
     "data": {
      "text/plain": [
       "[0.9855, 0.99, 0.9905, 0.9935, 0.9935]"
      ]
     },
     "execution_count": 9,
     "metadata": {},
     "output_type": "execute_result"
    }
   ],
   "source": [
    "#linear kernel svm\n",
    "linear_svm = svm.SVC(kernel ='linear')\n",
    "\n",
    "linear_svm_accuracy = []\n",
    "\n",
    "#fit, train and find accuracy of models with different data percent \n",
    "linear_svm_accuracy.append(findAccuracy(predict(test_data, fit(train_data_20, train_label_20, linear_svm)), test_label))\n",
    "linear_svm_accuracy.append(findAccuracy(predict(test_data, fit(train_data_40, train_label_40, linear_svm)), test_label))\n",
    "linear_svm_accuracy.append(findAccuracy(predict(test_data, fit(train_data_60, train_label_60, linear_svm)), test_label))\n",
    "linear_svm_accuracy.append(findAccuracy(predict(test_data, fit(train_data_80, train_label_80, linear_svm)), test_label))\n",
    "linear_svm_accuracy.append(findAccuracy(predict(test_data, fit(train_data, train_label, linear_svm)), test_label))\n",
    "\n",
    "linear_svm_accuracy"
   ]
  },
  {
   "cell_type": "code",
   "execution_count": 10,
   "metadata": {},
   "outputs": [
    {
     "name": "stdout",
     "output_type": "stream",
     "text": [
      "|  Data Subset Percentage  |  Accuracy percent  |\n",
      "|--------------------------+--------------------|\n",
      "|            20            |       98.55%       |\n",
      "|            40            |       99.0%        |\n",
      "|            60            |       99.05%       |\n",
      "|            80            |       99.35%       |\n",
      "|           100            |       99.35%       |\n"
     ]
    }
   ],
   "source": [
    "#print table to show accuracy percentages\n",
    "linear_accuracy_table = []\n",
    "percentage = 20\n",
    "for i in range(5):\n",
    "    accuracy = str(np.round(linear_svm_accuracy[i]*100, 2)) + \"%\"\n",
    "    linear_accuracy_table.append([percentage, accuracy])\n",
    "    percentage+= 20\n",
    "    \n",
    "print(tabulate(linear_accuracy_table, headers=['Data Subset Percentage', 'Accuracy percent'], tablefmt=\"orgtbl\", colalign=(\"center\", \"center\")))"
   ]
  },
  {
   "cell_type": "code",
   "execution_count": 11,
   "metadata": {},
   "outputs": [
    {
     "data": {
      "text/plain": [
       "[0.9955, 0.996]"
      ]
     },
     "execution_count": 11,
     "metadata": {},
     "output_type": "execute_result"
    }
   ],
   "source": [
    "#polynomial kernel svm with degree 2 and 5\n",
    "poly_svm_2 = svm.SVC(kernel ='poly', degree=2)\n",
    "poly_svm_5 = svm.SVC(kernel ='poly', degree=5)\n",
    "\n",
    "poly_svm_accuracy = []\n",
    "\n",
    "#fit, train and find accuracy of both models\n",
    "poly_svm_accuracy.append(findAccuracy(predict(test_data, fit(train_data, train_label, poly_svm_2)), test_label))\n",
    "poly_svm_accuracy.append(findAccuracy(predict(test_data, fit(train_data, train_label, poly_svm_5)), test_label))\n",
    "\n",
    "poly_svm_accuracy"
   ]
  },
  {
   "cell_type": "code",
   "execution_count": 12,
   "metadata": {},
   "outputs": [
    {
     "name": "stdout",
     "output_type": "stream",
     "text": [
      "|  Model Polynomial Degree (Q)  |  Accuracy percent  |\n",
      "|-------------------------------+--------------------|\n",
      "|               2               |       99.55%       |\n",
      "|               5               |       99.6%        |\n"
     ]
    }
   ],
   "source": [
    "#print table to show accuracy percentages\n",
    "poly_accuracy_table = []\n",
    "degree = 2\n",
    "for i in range(2):\n",
    "    accuracy = str(np.round(poly_svm_accuracy[i]*100, 2)) + \"%\"\n",
    "    poly_accuracy_table.append([degree, accuracy])\n",
    "    degree+=3\n",
    "    \n",
    "print(tabulate(poly_accuracy_table, headers=['Model Polynomial Degree (Q)', 'Accuracy percent'], tablefmt=\"orgtbl\", colalign=(\"center\", \"center\")))"
   ]
  },
  {
   "cell_type": "code",
   "execution_count": 13,
   "metadata": {},
   "outputs": [
    {
     "data": {
      "text/plain": [
       "[0.011, 0.002, 0.002, 0.002, 0.002]"
      ]
     },
     "execution_count": 13,
     "metadata": {},
     "output_type": "execute_result"
    }
   ],
   "source": [
    "#rbs svm model\n",
    "\n",
    "# set values of c for each model\n",
    "Ca = 0.01\n",
    "Cb = 1\n",
    "Cc = 100\n",
    "Cd = 104\n",
    "Ce = 106\n",
    "\n",
    "#create all models with different value of C\n",
    "rbf_svm_a = svm.SVC(kernel ='rbf', C=Ca)\n",
    "rbf_svm_b = svm.SVC(kernel ='rbf', C=Cb)\n",
    "rbf_svm_c = svm.SVC(kernel ='rbf', C=Cc)\n",
    "rbf_svm_d = svm.SVC(kernel ='rbf', C=Cd)\n",
    "rbf_svm_e = svm.SVC(kernel ='rbf', C=Ce)\n",
    "\n",
    "model_rbf_error = []\n",
    "\n",
    "#fit, predict and find mean square error for all models with different value of C\n",
    "model_rbf_error.append(meanSquaredError(predict(test_data, fit(train_data, train_label, rbf_svm_a)), test_label))\n",
    "model_rbf_error.append(meanSquaredError(predict(test_data, fit(train_data, train_label, rbf_svm_b)), test_label))\n",
    "model_rbf_error.append(meanSquaredError(predict(test_data, fit(train_data, train_label, rbf_svm_c)), test_label))\n",
    "model_rbf_error.append(meanSquaredError(predict(test_data, fit(train_data, train_label, rbf_svm_d)), test_label))\n",
    "model_rbf_error.append(meanSquaredError(predict(test_data, fit(train_data, train_label, rbf_svm_e)), test_label))\n",
    "\n",
    "model_rbf_error"
   ]
  },
  {
   "cell_type": "code",
   "execution_count": 14,
   "metadata": {},
   "outputs": [
    {
     "name": "stdout",
     "output_type": "stream",
     "text": [
      "|  Value of C  |  Mean Squared Error  |\n",
      "|--------------+----------------------|\n",
      "|     0.01     |        0.011         |\n",
      "|      1       |        0.002         |\n",
      "|     100      |        0.002         |\n",
      "|     104      |        0.002         |\n",
      "|     106      |        0.002         |\n"
     ]
    }
   ],
   "source": [
    "#print table to show accuracy percentages\n",
    "rbf_error_table = []\n",
    "rbf_error_table.append([Ca, model_rbf_error[0]])\n",
    "rbf_error_table.append([Cb, model_rbf_error[1]])\n",
    "rbf_error_table.append([Cc, model_rbf_error[2]])\n",
    "rbf_error_table.append([Cd, model_rbf_error[3]])\n",
    "rbf_error_table.append([Ce, model_rbf_error[4]])\n",
    "    \n",
    "print(tabulate(rbf_error_table, headers=['Value of C', 'Mean Squared Error'], tablefmt=\"orgtbl\", colalign=(\"center\", \"center\")))"
   ]
  },
  {
   "cell_type": "code",
   "execution_count": 16,
   "metadata": {},
   "outputs": [
    {
     "name": "stdout",
     "output_type": "stream",
     "text": [
      "Actual SIX\n",
      "Predicted SIX\n"
     ]
    },
    {
     "data": {
      "text/plain": [
       "<matplotlib.image.AxesImage at 0x1dbe84bc0a0>"
      ]
     },
     "execution_count": 16,
     "metadata": {},
     "output_type": "execute_result"
    },
    {
     "data": {
      "image/png": "[encoded data removed]",
      "text/plain": [
       "<Figure size 432x288 with 1 Axes>"
      ]
     },
     "metadata": {
      "needs_background": "light"
     },
     "output_type": "display_data"
    }
   ],
   "source": [
    "#visual testing\n",
    "#keep the index number and model of your choice below\n",
    "\n",
    "array = []\n",
    "labeldict = {\n",
    "  0 : \"ONE\",\n",
    "  1 : \"SIX\"\n",
    "}\n",
    "\n",
    "####### model list #######\n",
    "# linear models\n",
    "# linear_svm -> trained with all data\n",
    "# linear_svm_20 -> trained with first 20% of data\n",
    "# linear_svm_40 -> trained with first 40% of data\n",
    "# linear_Svm_60 -> trained with first 60% of data\n",
    "# linear_Svm_60 -> trained with first 80% of data\n",
    "\n",
    "# polynomial models\n",
    "# poly_svm_2 -> trained with polynomial degree 2\n",
    "# poly_Svm_5 -> trained with polynomial degree 5\n",
    "\n",
    "# rbs models\n",
    "# rbf_svm_a -> trained with C = 0.01\n",
    "# rbf_svm_b -> trained with C = 1\n",
    "# rbf_svm_c -> trained with C = 100\n",
    "# rbf_svm_d -> trained with C = 104\n",
    "# rbf_svm_e -> trained with C = 106\n",
    "\n",
    "index = 5 #any index number from 0 to 1999\n",
    "model = linear_svm #any model from list above\n",
    "\n",
    "array.append(test_data[index])\n",
    "prediction = predict(array, model)\n",
    "\n",
    "print(\"Actual\", labeldict[test_label[index]])\n",
    "print(\"Predicted\", labeldict[prediction[0]])\n",
    "\n",
    "img = np.reshape(test_data[index], (28,28))\n",
    "plt.imshow(img)"
   ]
  }
 ],
 "metadata": {
  "kernelspec": {
   "display_name": "Python 3",
   "language": "python",
   "name": "python3"
  },
  "language_info": {
   "codemirror_mode": {
    "name": "ipython",
    "version": 3
   },
   "file_extension": ".py",
   "mimetype": "text/x-python",
   "name": "python",
   "nbconvert_exporter": "python",
   "pygments_lexer": "ipython3",
   "version": "3.8.3"
  }
 },
 "nbformat": 4,
 "nbformat_minor": 4
}
