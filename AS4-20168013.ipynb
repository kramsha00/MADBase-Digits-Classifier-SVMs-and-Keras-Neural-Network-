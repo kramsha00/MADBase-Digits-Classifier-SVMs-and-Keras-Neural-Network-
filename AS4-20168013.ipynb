{
 "cells": [
  {
   "cell_type": "markdown",
   "metadata": {},
   "source": [
    "## University of Bahrain\n",
    "### ITCS 494 - ML - Selected Topics in Computer Science\n",
    "### Assignment 4\n",
    "\n",
    "#### RAMSHA KHALID MUHAMMAD KHALID - 20168013\n",
    "\n",
    "Problem\n",
    "\n",
    "* The aim of this lab assignment is to apply your knowledge from neural networks (Lecture 6) to design a classifier for Arabic handwritten digits. The assignment will not require students to implement neurons from scratch, but instead we will be using existing ANN libraries in Python to achieve the task.\n",
    "\n",
    "\n",
    "\n",
    "Dataset\n",
    "\n",
    "* Please visit the following website to download the dataset http://datacenter.aucegypt.edu/shazeem/\n",
    "\n",
    "* Use MADBase datasets\n",
    "\n",
    "\n",
    "\n",
    "* Tasks\n",
    "\n",
    "1.Build a suitable model using Keras and train it using the MADBase dataset\n",
    "\n",
    "2.Try at least three of each Keras options below for each attempt (you can choose which three you want to try) for a total of 9 models:\n",
    "\n",
    "* Loss functions (https://keras.io/api/losses/)\n",
    "\n",
    "* Optimizers (https://keras.io/api/optimizers/)\n",
    "\n",
    "3.Evaluate the success rate by calculating the success rate using the test dataset for each combination of choices in point 2 and print it in a table (for metrics, use the Accuracy class)\n",
    "\n",
    "4.Write down your conclusions from the experiment"
   ]
  },
  {
   "cell_type": "code",
   "execution_count": 1,
   "metadata": {},
   "outputs": [],
   "source": [
    "#import libraries\n",
    "\n",
    "from PIL import Image\n",
    "import numpy as np\n",
    "import pathlib\n",
    "import random\n",
    "from os import listdir\n",
    "from sklearn.utils import shuffle\n",
    "from tabulate import tabulate\n",
    "from sklearn.metrics import accuracy_score\n",
    "from sklearn.metrics import mean_squared_error\n",
    "import matplotlib.pyplot as plt\n",
    "import tensorflow as tf\n",
    "from tensorflow import keras"
   ]
  },
  {
   "cell_type": "code",
   "execution_count": 2,
   "metadata": {},
   "outputs": [
    {
     "name": "stdout",
     "output_type": "stream",
     "text": [
      "Reading Train Zeros...\n",
      "Reading Train Oness...\n",
      "Reading Train Twos...\n",
      "Reading Train Threes...\n",
      "Reading Train Fours...\n",
      "Reading Train Fives...\n",
      "Reading Train Sixes...\n",
      "Reading Train Sevens...\n",
      "Reading Train Eights...\n",
      "Reading Train Nines...\n"
     ]
    },
    {
     "data": {
      "text/plain": [
       "(60000, 28, 28)"
      ]
     },
     "execution_count": 2,
     "metadata": {},
     "output_type": "execute_result"
    }
   ],
   "source": [
    "train_zeros = listdir(\"Training/ZERO\")\n",
    "train_ones = listdir(\"Training/ONE\")\n",
    "train_twos = listdir(\"Training/TWO\")\n",
    "train_threes = listdir(\"Training/THREE\")\n",
    "train_fours = listdir(\"Training/FOUR\")\n",
    "train_fives = listdir(\"Training/FIVE\")\n",
    "train_sixes = listdir(\"Training/SIX\")\n",
    "train_sevens = listdir(\"Training/SEVEN\")\n",
    "train_eights = listdir(\"Training/EIGHT\")\n",
    "train_nines = listdir(\"Training/NINE\")\n",
    "\n",
    "train_data = []\n",
    "train_label = []\n",
    "\n",
    "def getImage(link):\n",
    "    an_image = Image.open(link)\n",
    "    image_sequence = an_image.getdata()\n",
    "    image_array = np.array(image_sequence)\n",
    "    image_array = np.reshape(image_array, (28,28))\n",
    "    \n",
    "    return image_array\n",
    "\n",
    "print(\"Reading Train Zeros...\")\n",
    "#read all ones and append to training array\n",
    "for image in train_zeros:\n",
    "    link = \"Training/ZERO/\" + image\n",
    "    if(link.endswith('bmp')):\n",
    "        img = getImage(link)\n",
    "        train_data.append(img)\n",
    "        train_label.append(0)\n",
    "\n",
    "print(\"Reading Train Oness...\")\n",
    "#read all ones and append to training array\n",
    "for image in train_ones:\n",
    "    link = \"Training/ONE/\" + image\n",
    "    if(link.endswith('bmp')):\n",
    "        img = getImage(link)\n",
    "        train_data.append(img)\n",
    "        train_label.append(1)\n",
    "\n",
    "print(\"Reading Train Twos...\")\n",
    "#read all ones and append to training array\n",
    "for image in train_twos:\n",
    "    link = \"Training/TWO/\" + image\n",
    "    if(link.endswith('bmp')):\n",
    "        img = getImage(link)\n",
    "        train_data.append(img)\n",
    "        train_label.append(2)\n",
    "        \n",
    "print(\"Reading Train Threes...\")\n",
    "#read all ones and append to training array\n",
    "for image in train_threes:\n",
    "    link = \"Training/THREE/\" + image\n",
    "    if(link.endswith('bmp')):\n",
    "        img = getImage(link)\n",
    "        train_data.append(img)\n",
    "        train_label.append(3)\n",
    "\n",
    "print(\"Reading Train Fours...\")\n",
    "#read all ones and append to training array\n",
    "for image in train_fours:\n",
    "    link = \"Training/FOUR/\" + image\n",
    "    if(link.endswith('bmp')):\n",
    "        img = getImage(link)\n",
    "        train_data.append(img)\n",
    "        train_label.append(4)\n",
    "\n",
    "print(\"Reading Train Fives...\")\n",
    "#read all ones and append to training array\n",
    "for image in train_fives:\n",
    "    link = \"Training/FIVE/\" + image\n",
    "    if(link.endswith('bmp')):\n",
    "        img = getImage(link)\n",
    "        train_data.append(img)\n",
    "        train_label.append(5)\n",
    "\n",
    "print(\"Reading Train Sixes...\")\n",
    "#read all ones and append to training array\n",
    "for image in train_sixes:\n",
    "    link = \"Training/SIX/\" + image\n",
    "    if(link.endswith('bmp')):\n",
    "        img = getImage(link)\n",
    "        train_data.append(img)\n",
    "        train_label.append(6)\n",
    "\n",
    "print(\"Reading Train Sevens...\")        \n",
    "#read all ones and append to training array\n",
    "for image in train_sevens:\n",
    "    link = \"Training/SEVEN/\" + image\n",
    "    if(link.endswith('bmp')):\n",
    "        img = getImage(link)\n",
    "        train_data.append(img)\n",
    "        train_label.append(7)\n",
    "\n",
    "print(\"Reading Train Eights...\")        \n",
    "#read all ones and append to training array\n",
    "for image in train_eights:\n",
    "    link = \"Training/EIGHT/\" + image\n",
    "    if(link.endswith('bmp')):\n",
    "        img = getImage(link)\n",
    "        train_data.append(img)\n",
    "        train_label.append(8)\n",
    "\n",
    "print(\"Reading Train Nines...\")        \n",
    "#read all ones and append to training array\n",
    "for image in train_nines:\n",
    "    link = \"Training/NINE/\" + image\n",
    "    if(link.endswith('bmp')):\n",
    "        img = getImage(link)\n",
    "        train_data.append(img)\n",
    "        train_label.append(9)\n",
    "\n",
    "train_data = np.array(train_data)\n",
    "train_data.shape"
   ]
  },
  {
   "cell_type": "code",
   "execution_count": 3,
   "metadata": {},
   "outputs": [
    {
     "name": "stdout",
     "output_type": "stream",
     "text": [
      "Reading Test Zeros...\n",
      "Reading Test Ones...\n",
      "Reading Test Twos...\n",
      "Reading Test Threes...\n",
      "Reading Test Fours...\n",
      "Reading Test Fives...\n",
      "Reading Test Sixes...\n",
      "Reading Test Sevens...\n",
      "Reading Test Eights...\n",
      "Reading Test Nines...\n"
     ]
    },
    {
     "data": {
      "text/plain": [
       "(10000, 28, 28)"
      ]
     },
     "execution_count": 3,
     "metadata": {},
     "output_type": "execute_result"
    }
   ],
   "source": [
    "test_zeros = listdir(\"Testing/ZERO\")\n",
    "test_ones = listdir(\"Testing/ONE\")\n",
    "test_twos = listdir(\"Testing/TWO\")\n",
    "test_threes = listdir(\"Testing/THREE\")\n",
    "test_fours = listdir(\"Testing/FOUR\")\n",
    "test_fives = listdir(\"Testing/FIVE\")\n",
    "test_sixes = listdir(\"Testing/SIX\")\n",
    "test_sevens = listdir(\"Testing/SEVEN\")\n",
    "test_eights = listdir(\"Testing/EIGHT\")\n",
    "test_nines = listdir(\"Testing/NINE\")\n",
    "\n",
    "test_data = []\n",
    "test_label = []\n",
    "\n",
    "print(\"Reading Test Zeros...\")\n",
    "#read all ones and append to training array\n",
    "for image in test_zeros:\n",
    "    link = \"Testing/ZERO/\" + image\n",
    "    if(link.endswith('bmp')):\n",
    "        img = getImage(link)\n",
    "        test_data.append(img)\n",
    "        test_label.append(0)\n",
    "\n",
    "print(\"Reading Test Ones...\")        \n",
    "#read all ones and append to training array\n",
    "for image in test_ones:\n",
    "    link = \"Testing/ONE/\" + image\n",
    "    if(link.endswith('bmp')):\n",
    "        img = getImage(link)\n",
    "        test_data.append(img)\n",
    "        test_label.append(1)\n",
    "\n",
    "print(\"Reading Test Twos...\")        \n",
    "#read all ones and append to training array\n",
    "for image in test_twos:\n",
    "    link = \"Testing/TWO/\" + image\n",
    "    if(link.endswith('bmp')):\n",
    "        img = getImage(link)\n",
    "        test_data.append(img)\n",
    "        test_label.append(2)\n",
    "\n",
    "print(\"Reading Test Threes...\")        \n",
    "#read all ones and append to training array\n",
    "for image in test_threes:\n",
    "    link = \"Testing/THREE/\" + image\n",
    "    if(link.endswith('bmp')):\n",
    "        img = getImage(link)\n",
    "        test_data.append(img)\n",
    "        test_label.append(3)\n",
    "\n",
    "print(\"Reading Test Fours...\")        \n",
    "#read all ones and append to training array\n",
    "for image in test_fours:\n",
    "    link = \"Testing/FOUR/\" + image\n",
    "    if(link.endswith('bmp')):\n",
    "        img = getImage(link)\n",
    "        test_data.append(img)\n",
    "        test_label.append(4)\n",
    "\n",
    "print(\"Reading Test Fives...\")        \n",
    "#read all ones and append to training array\n",
    "for image in test_fives:\n",
    "    link = \"Testing/FIVE/\" + image\n",
    "    if(link.endswith('bmp')):\n",
    "        img = getImage(link)\n",
    "        test_data.append(img)\n",
    "        test_label.append(5)\n",
    "\n",
    "print(\"Reading Test Sixes...\")        \n",
    "#read all ones and append to training array\n",
    "for image in test_sixes:\n",
    "    link = \"Testing/SIX/\" + image\n",
    "    if(link.endswith('bmp')):\n",
    "        img = getImage(link)\n",
    "        test_data.append(img)\n",
    "        test_label.append(6)\n",
    "\n",
    "print(\"Reading Test Sevens...\")        \n",
    "#read all ones and append to training array\n",
    "for image in test_sevens:\n",
    "    link = \"Testing/SEVEN/\" + image\n",
    "    if(link.endswith('bmp')):\n",
    "        img = getImage(link)\n",
    "        test_data.append(img)\n",
    "        test_label.append(7)\n",
    "\n",
    "print(\"Reading Test Eights...\")        \n",
    "#read all ones and append to training array\n",
    "for image in test_eights:\n",
    "    link = \"Testing/EIGHT/\" + image\n",
    "    if(link.endswith('bmp')):\n",
    "        img = getImage(link)\n",
    "        test_data.append(img)\n",
    "        test_label.append(8)\n",
    "\n",
    "print(\"Reading Test Nines...\")        \n",
    "#read all ones and append to training array\n",
    "for image in test_nines:\n",
    "    link = \"Testing/NINE/\" + image\n",
    "    if(link.endswith('bmp')):\n",
    "        img = getImage(link)\n",
    "        test_data.append(img)\n",
    "        test_label.append(9)\n",
    "\n",
    "test_data = np.array(test_data)\n",
    "test_data.shape"
   ]
  },
  {
   "cell_type": "code",
   "execution_count": 4,
   "metadata": {},
   "outputs": [],
   "source": [
    "class_names = ['ZERO', 'ONE', 'TWO', 'THREE', 'FOUR','FIVE', 'SIX', 'SEVEN', 'EIGHT', 'NINE']"
   ]
  },
  {
   "cell_type": "code",
   "execution_count": 5,
   "metadata": {},
   "outputs": [],
   "source": [
    "#random shuffle the training and testing arrays\n",
    "\n",
    "train_data, train_label = shuffle(train_data, train_label)\n",
    "test_data, test_label = shuffle(test_data, test_label)"
   ]
  },
  {
   "cell_type": "code",
   "execution_count": 6,
   "metadata": {},
   "outputs": [
    {
     "data": {
      "image/png": "[encoded data removed]",
      "text/plain": [
       "<Figure size 720x720 with 25 Axes>"
      ]
     },
     "metadata": {
      "needs_background": "light"
     },
     "output_type": "display_data"
    }
   ],
   "source": [
    "#display test images with labels\n",
    "_, axs = plt.subplots(5,5, figsize=(10, 10), constrained_layout=True)\n",
    "axs = axs.flatten()\n",
    "i = 0\n",
    "for img, label, ax in zip(test_data[:25], test_label[:25], axs):\n",
    "    ax.set_title(class_names[label])\n",
    "    ax.imshow(img)\n",
    "plt.show()"
   ]
  },
  {
   "cell_type": "code",
   "execution_count": 7,
   "metadata": {},
   "outputs": [],
   "source": [
    "#pre-process the images\n",
    "train_data = train_data / 255.0\n",
    "test_data = test_data / 255.0\n",
    "\n",
    "train_data = np.array(train_data)\n",
    "train_label = np.array(train_label)\n",
    "test_data = np.array(test_data)\n",
    "test_label = np.array(test_label)"
   ]
  },
  {
   "cell_type": "markdown",
   "metadata": {},
   "source": [
    "## Building Models"
   ]
  },
  {
   "cell_type": "markdown",
   "metadata": {},
   "source": [
    "##### Model A \n",
    "##### Loss - Sparse \n",
    "##### Optimizer - Adam"
   ]
  },
  {
   "cell_type": "code",
   "execution_count": 8,
   "metadata": {},
   "outputs": [
    {
     "name": "stdout",
     "output_type": "stream",
     "text": [
      "Epoch 1/10\n",
      "1875/1875 [==============================] - 4s 2ms/step - loss: 0.6941 - accuracy: 0.8272\n",
      "Epoch 2/10\n",
      "1875/1875 [==============================] - 4s 2ms/step - loss: 0.1583 - accuracy: 0.9536\n",
      "Epoch 3/10\n",
      "1875/1875 [==============================] - 4s 2ms/step - loss: 0.1348 - accuracy: 0.9606\n",
      "Epoch 4/10\n",
      "1875/1875 [==============================] - 4s 2ms/step - loss: 0.1161 - accuracy: 0.9665\n",
      "Epoch 5/10\n",
      "1875/1875 [==============================] - 4s 2ms/step - loss: 0.1064 - accuracy: 0.9692\n",
      "Epoch 6/10\n",
      "1875/1875 [==============================] - 4s 2ms/step - loss: 0.0963 - accuracy: 0.9722\n",
      "Epoch 7/10\n",
      "1875/1875 [==============================] - 3s 2ms/step - loss: 0.0934 - accuracy: 0.9721\n",
      "Epoch 8/10\n",
      "1875/1875 [==============================] - 4s 2ms/step - loss: 0.0857 - accuracy: 0.9752\n",
      "Epoch 9/10\n",
      "1875/1875 [==============================] - 4s 2ms/step - loss: 0.0812 - accuracy: 0.9769\n",
      "Epoch 10/10\n",
      "1875/1875 [==============================] - 4s 2ms/step - loss: 0.0753 - accuracy: 0.9783\n"
     ]
    },
    {
     "data": {
      "text/plain": [
       "<tensorflow.python.keras.callbacks.History at 0x2740aaed760>"
      ]
     },
     "execution_count": 8,
     "metadata": {},
     "output_type": "execute_result"
    }
   ],
   "source": [
    "#build the model\n",
    "model_adam_sparse = keras.Sequential([\n",
    "    keras.layers.Flatten(input_shape=(28, 28)),  # input layer (1)\n",
    "    keras.layers.Dense(128, activation='sigmoid'),  # hidden layer (2)\n",
    "    keras.layers.Dense(10, activation='sigmoid') # output layer (3)\n",
    "])\n",
    "\n",
    "#compile model\n",
    "model_adam_sparse.compile(optimizer='adam', loss='sparse_categorical_crossentropy', metrics=['accuracy'])\n",
    "\n",
    "#fit model\n",
    "model_adam_sparse.fit(train_data, train_label, epochs=10)"
   ]
  },
  {
   "cell_type": "code",
   "execution_count": 9,
   "metadata": {},
   "outputs": [
    {
     "name": "stdout",
     "output_type": "stream",
     "text": [
      "313/313 [==============================] - 1s 1ms/step - loss: 0.0983 - accuracy: 0.9711\n"
     ]
    }
   ],
   "source": [
    "test_loss_a, test_acc_a = model_adam_sparse.evaluate(test_data,  test_label, verbose=1) "
   ]
  },
  {
   "cell_type": "markdown",
   "metadata": {},
   "source": [
    "##### Model B \n",
    "##### Loss - Poisson\n",
    "##### Optimizer - Adam"
   ]
  },
  {
   "cell_type": "code",
   "execution_count": 10,
   "metadata": {},
   "outputs": [
    {
     "name": "stdout",
     "output_type": "stream",
     "text": [
      "Epoch 1/10\n",
      "1875/1875 [==============================] - 4s 2ms/step - loss: 1.0667 - accuracy: 0.1016\n",
      "Epoch 2/10\n",
      "1875/1875 [==============================] - 4s 2ms/step - loss: 1.0003 - accuracy: 0.0979\n",
      "Epoch 3/10\n",
      "1875/1875 [==============================] - 4s 2ms/step - loss: 1.0001 - accuracy: 0.0991\n",
      "Epoch 4/10\n",
      "1875/1875 [==============================] - 3s 2ms/step - loss: 1.0000 - accuracy: 0.1006\n",
      "Epoch 5/10\n",
      "1875/1875 [==============================] - 3s 2ms/step - loss: 1.0000 - accuracy: 0.0997\n",
      "Epoch 6/10\n",
      "1875/1875 [==============================] - 3s 2ms/step - loss: 1.0000 - accuracy: 0.1000\n",
      "Epoch 7/10\n",
      "1875/1875 [==============================] - 4s 2ms/step - loss: 1.0000 - accuracy: 0.1015\n",
      "Epoch 8/10\n",
      "1875/1875 [==============================] - 4s 2ms/step - loss: 1.0000 - accuracy: 0.1039\n",
      "Epoch 9/10\n",
      "1875/1875 [==============================] - 4s 2ms/step - loss: 1.0000 - accuracy: 0.0723\n",
      "Epoch 10/10\n",
      "1875/1875 [==============================] - 3s 2ms/step - loss: 1.0000 - accuracy: 0.0684\n"
     ]
    },
    {
     "data": {
      "text/plain": [
       "<tensorflow.python.keras.callbacks.History at 0x2740cd7f760>"
      ]
     },
     "execution_count": 10,
     "metadata": {},
     "output_type": "execute_result"
    }
   ],
   "source": [
    "#build the model\n",
    "model_adam_poisson = keras.Sequential([\n",
    "    keras.layers.Flatten(input_shape=(28, 28)),  # input layer (1)\n",
    "    keras.layers.Dense(128, activation='sigmoid'),  # hidden layer (2)\n",
    "    keras.layers.Dense(10, activation='sigmoid') # output layer (3)\n",
    "])\n",
    "\n",
    "#compile model\n",
    "model_adam_poisson.compile(optimizer='adam', loss='Poisson', metrics=['accuracy'])\n",
    "\n",
    "#fit model\n",
    "model_adam_poisson.fit(train_data, train_label, epochs=10)"
   ]
  },
  {
   "cell_type": "code",
   "execution_count": 11,
   "metadata": {},
   "outputs": [
    {
     "name": "stdout",
     "output_type": "stream",
     "text": [
      "313/313 [==============================] - 1s 2ms/step - loss: 1.0000 - accuracy: 0.0663\n"
     ]
    }
   ],
   "source": [
    "test_loss_b, test_acc_b = model_adam_poisson.evaluate(test_data,  test_label, verbose=1) "
   ]
  },
  {
   "cell_type": "markdown",
   "metadata": {},
   "source": [
    "##### Model C\n",
    "##### Loss - KL Divergence\n",
    "##### Optimizer - Adam"
   ]
  },
  {
   "cell_type": "code",
   "execution_count": 12,
   "metadata": {},
   "outputs": [
    {
     "name": "stdout",
     "output_type": "stream",
     "text": [
      "Epoch 1/10\n",
      "1875/1875 [==============================] - 4s 2ms/step - loss: 0.1865 - accuracy: 0.1023\n",
      "Epoch 2/10\n",
      "1875/1875 [==============================] - 3s 2ms/step - loss: 9.3452e-04 - accuracy: 0.0989\n",
      "Epoch 3/10\n",
      "1875/1875 [==============================] - 3s 2ms/step - loss: 2.2439e-04 - accuracy: 0.0990\n",
      "Epoch 4/10\n",
      "1875/1875 [==============================] - 4s 2ms/step - loss: 7.2797e-05 - accuracy: 0.1020\n",
      "Epoch 5/10\n",
      "1875/1875 [==============================] - 4s 2ms/step - loss: 2.5819e-05 - accuracy: 0.0999\n",
      "Epoch 6/10\n",
      "1875/1875 [==============================] - 4s 2ms/step - loss: 8.8575e-06 - accuracy: 0.0995\n",
      "Epoch 7/10\n",
      "1875/1875 [==============================] - 4s 2ms/step - loss: 2.3966e-06 - accuracy: 0.0981\n",
      "Epoch 8/10\n",
      "1875/1875 [==============================] - 4s 2ms/step - loss: -2.5560e-07 - accuracy: 0.1021\n",
      "Epoch 9/10\n",
      "1875/1875 [==============================] - 4s 2ms/step - loss: -1.5962e-06 - accuracy: 0.0727\n",
      "Epoch 10/10\n",
      "1875/1875 [==============================] - 4s 2ms/step - loss: -1.6316e-06 - accuracy: 0.0848\n"
     ]
    },
    {
     "data": {
      "text/plain": [
       "<tensorflow.python.keras.callbacks.History at 0x2740d102df0>"
      ]
     },
     "execution_count": 12,
     "metadata": {},
     "output_type": "execute_result"
    }
   ],
   "source": [
    "#build the model\n",
    "model_adam_kl = keras.Sequential([\n",
    "    keras.layers.Flatten(input_shape=(28, 28)),  # input layer (1)\n",
    "    keras.layers.Dense(128, activation='sigmoid'),  # hidden layer (2)\n",
    "    keras.layers.Dense(10, activation='sigmoid') # output layer (3)\n",
    "])\n",
    "\n",
    "#compile model\n",
    "model_adam_kl.compile(optimizer='adam', loss='kl_divergence', metrics=['accuracy'])\n",
    "\n",
    "#fit model\n",
    "model_adam_kl.fit(train_data, train_label, epochs=10)"
   ]
  },
  {
   "cell_type": "code",
   "execution_count": 13,
   "metadata": {},
   "outputs": [
    {
     "name": "stdout",
     "output_type": "stream",
     "text": [
      "313/313 [==============================] - 1s 1ms/step - loss: -1.6114e-06 - accuracy: 0.0864\n"
     ]
    }
   ],
   "source": [
    "test_loss_c, test_acc_c = model_adam_kl.evaluate(test_data,  test_label, verbose=1) "
   ]
  },
  {
   "cell_type": "markdown",
   "metadata": {},
   "source": [
    "##### Model D\n",
    "##### Loss - Sparse \n",
    "##### Optimizer - SGD"
   ]
  },
  {
   "cell_type": "code",
   "execution_count": 14,
   "metadata": {},
   "outputs": [
    {
     "name": "stdout",
     "output_type": "stream",
     "text": [
      "Epoch 1/10\n",
      "1875/1875 [==============================] - 4s 2ms/step - loss: 1.7949 - accuracy: 0.6089\n",
      "Epoch 2/10\n",
      "1875/1875 [==============================] - 3s 2ms/step - loss: 0.5843 - accuracy: 0.9197\n",
      "Epoch 3/10\n",
      "1875/1875 [==============================] - 3s 2ms/step - loss: 0.3488 - accuracy: 0.9342\n",
      "Epoch 4/10\n",
      "1875/1875 [==============================] - 4s 2ms/step - loss: 0.2740 - accuracy: 0.9410\n",
      "Epoch 5/10\n",
      "1875/1875 [==============================] - 3s 2ms/step - loss: 0.2323 - accuracy: 0.9475\n",
      "Epoch 6/10\n",
      "1875/1875 [==============================] - 3s 2ms/step - loss: 0.2099 - accuracy: 0.9495\n",
      "Epoch 7/10\n",
      "1875/1875 [==============================] - 3s 2ms/step - loss: 0.1926 - accuracy: 0.9526\n",
      "Epoch 8/10\n",
      "1875/1875 [==============================] - 4s 2ms/step - loss: 0.1784 - accuracy: 0.9535\n",
      "Epoch 9/10\n",
      "1875/1875 [==============================] - 3s 2ms/step - loss: 0.1692 - accuracy: 0.9560\n",
      "Epoch 10/10\n",
      "1875/1875 [==============================] - 3s 2ms/step - loss: 0.1654 - accuracy: 0.9576\n"
     ]
    },
    {
     "data": {
      "text/plain": [
       "<tensorflow.python.keras.callbacks.History at 0x2740a611c40>"
      ]
     },
     "execution_count": 14,
     "metadata": {},
     "output_type": "execute_result"
    }
   ],
   "source": [
    "#build the model\n",
    "model_sgd_sparse = keras.Sequential([\n",
    "    keras.layers.Flatten(input_shape=(28, 28)),  # input layer (1)\n",
    "    keras.layers.Dense(128, activation='sigmoid'),  # hidden layer (2)\n",
    "    keras.layers.Dense(10, activation='sigmoid') # output layer (3)\n",
    "])\n",
    "\n",
    "#compile model\n",
    "model_sgd_sparse.compile(optimizer='SGD', loss='sparse_categorical_crossentropy', metrics=['accuracy'])\n",
    "\n",
    "#fit model\n",
    "model_sgd_sparse.fit(train_data, train_label, epochs=10)"
   ]
  },
  {
   "cell_type": "code",
   "execution_count": 15,
   "metadata": {},
   "outputs": [
    {
     "name": "stdout",
     "output_type": "stream",
     "text": [
      "313/313 [==============================] - 1s 1ms/step - loss: 0.1816 - accuracy: 0.9504\n"
     ]
    }
   ],
   "source": [
    "test_loss_d, test_acc_d = model_sgd_sparse.evaluate(test_data,  test_label, verbose=1) "
   ]
  },
  {
   "cell_type": "markdown",
   "metadata": {},
   "source": [
    "##### Model E\n",
    "##### Loss - Poisson\n",
    "##### Optimizer - SGD"
   ]
  },
  {
   "cell_type": "code",
   "execution_count": 16,
   "metadata": {},
   "outputs": [
    {
     "name": "stdout",
     "output_type": "stream",
     "text": [
      "Epoch 1/10\n",
      "1875/1875 [==============================] - 4s 2ms/step - loss: 1.1588 - accuracy: 0.0754\n",
      "Epoch 2/10\n",
      "1875/1875 [==============================] - 3s 2ms/step - loss: 1.0054 - accuracy: 0.0970\n",
      "Epoch 3/10\n",
      "1875/1875 [==============================] - 3s 2ms/step - loss: 1.0029 - accuracy: 0.1015\n",
      "Epoch 4/10\n",
      "1875/1875 [==============================] - 3s 2ms/step - loss: 1.0019 - accuracy: 0.1017\n",
      "Epoch 5/10\n",
      "1875/1875 [==============================] - 3s 2ms/step - loss: 1.0015 - accuracy: 0.1015\n",
      "Epoch 6/10\n",
      "1875/1875 [==============================] - 3s 2ms/step - loss: 1.0012 - accuracy: 0.1021\n",
      "Epoch 7/10\n",
      "1875/1875 [==============================] - 3s 2ms/step - loss: 1.0010 - accuracy: 0.1008\n",
      "Epoch 8/10\n",
      "1875/1875 [==============================] - 3s 2ms/step - loss: 1.0009 - accuracy: 0.1019\n",
      "Epoch 9/10\n",
      "1875/1875 [==============================] - 3s 2ms/step - loss: 1.0007 - accuracy: 0.1042\n",
      "Epoch 10/10\n",
      "1875/1875 [==============================] - 3s 2ms/step - loss: 1.0007 - accuracy: 0.1044\n"
     ]
    },
    {
     "data": {
      "text/plain": [
       "<tensorflow.python.keras.callbacks.History at 0x2740a502850>"
      ]
     },
     "execution_count": 16,
     "metadata": {},
     "output_type": "execute_result"
    }
   ],
   "source": [
    "#build the model\n",
    "model_sgd_poisson = keras.Sequential([\n",
    "    keras.layers.Flatten(input_shape=(28, 28)),  # input layer (1)\n",
    "    keras.layers.Dense(128, activation='sigmoid'),  # hidden layer (2)\n",
    "    keras.layers.Dense(10, activation='sigmoid') # output layer (3)\n",
    "])\n",
    "\n",
    "#compile model\n",
    "model_sgd_poisson.compile(optimizer='SGD', loss='poisson', metrics=['accuracy'])\n",
    "\n",
    "#fit model\n",
    "model_sgd_poisson.fit(train_data, train_label, epochs=10)"
   ]
  },
  {
   "cell_type": "code",
   "execution_count": 17,
   "metadata": {},
   "outputs": [
    {
     "name": "stdout",
     "output_type": "stream",
     "text": [
      "313/313 [==============================] - 1s 1ms/step - loss: 1.0006 - accuracy: 0.1050\n"
     ]
    }
   ],
   "source": [
    "test_loss_e, test_acc_e = model_sgd_poisson.evaluate(test_data,  test_label, verbose=1) "
   ]
  },
  {
   "cell_type": "markdown",
   "metadata": {},
   "source": [
    "##### Model F\n",
    "##### Loss - KL Divergence \n",
    "##### Optimizer - SGD"
   ]
  },
  {
   "cell_type": "code",
   "execution_count": 18,
   "metadata": {},
   "outputs": [
    {
     "name": "stdout",
     "output_type": "stream",
     "text": [
      "Epoch 1/10\n",
      "1875/1875 [==============================] - 4s 2ms/step - loss: 0.1792 - accuracy: 0.0997\n",
      "Epoch 2/10\n",
      "1875/1875 [==============================] - 4s 2ms/step - loss: 0.0050 - accuracy: 0.1091\n",
      "Epoch 3/10\n",
      "1875/1875 [==============================] - 3s 2ms/step - loss: 0.0027 - accuracy: 0.1083\n",
      "Epoch 4/10\n",
      "1875/1875 [==============================] - 4s 2ms/step - loss: 0.0018 - accuracy: 0.1068\n",
      "Epoch 5/10\n",
      "1875/1875 [==============================] - 3s 2ms/step - loss: 0.0014 - accuracy: 0.1056\n",
      "Epoch 6/10\n",
      "1875/1875 [==============================] - 4s 2ms/step - loss: 0.0011 - accuracy: 0.1037\n",
      "Epoch 7/10\n",
      "1875/1875 [==============================] - 4s 2ms/step - loss: 9.3467e-04 - accuracy: 0.1054\n",
      "Epoch 8/10\n",
      "1875/1875 [==============================] - 4s 2ms/step - loss: 8.0073e-04 - accuracy: 0.1076\n",
      "Epoch 9/10\n",
      "1875/1875 [==============================] - 3s 2ms/step - loss: 7.0345e-04 - accuracy: 0.1042\n",
      "Epoch 10/10\n",
      "1875/1875 [==============================] - 3s 2ms/step - loss: 6.2499e-04 - accuracy: 0.1016\n"
     ]
    },
    {
     "data": {
      "text/plain": [
       "<tensorflow.python.keras.callbacks.History at 0x2740d72de20>"
      ]
     },
     "execution_count": 18,
     "metadata": {},
     "output_type": "execute_result"
    }
   ],
   "source": [
    "#build the model\n",
    "model_sgd_kl = keras.Sequential([\n",
    "    keras.layers.Flatten(input_shape=(28, 28)),  # input layer (1)\n",
    "    keras.layers.Dense(128, activation='sigmoid'),  # hidden layer (2)\n",
    "    keras.layers.Dense(10, activation='sigmoid') # output layer (3)\n",
    "])\n",
    "\n",
    "#compile model\n",
    "model_sgd_kl.compile(optimizer='SGD', loss='kl_divergence', metrics=['accuracy'])\n",
    "\n",
    "#fit model\n",
    "model_sgd_kl.fit(train_data, train_label, epochs=10)"
   ]
  },
  {
   "cell_type": "code",
   "execution_count": 19,
   "metadata": {},
   "outputs": [
    {
     "name": "stdout",
     "output_type": "stream",
     "text": [
      "313/313 [==============================] - 1s 2ms/step - loss: 5.7570e-04 - accuracy: 0.1070\n"
     ]
    }
   ],
   "source": [
    "test_loss_f, test_acc_f = model_sgd_kl.evaluate(test_data,  test_label, verbose=1) "
   ]
  },
  {
   "cell_type": "markdown",
   "metadata": {},
   "source": [
    "##### Model G\n",
    "##### Loss - Sparse \n",
    "##### Optimizer - RMS Prop"
   ]
  },
  {
   "cell_type": "code",
   "execution_count": 20,
   "metadata": {},
   "outputs": [
    {
     "name": "stdout",
     "output_type": "stream",
     "text": [
      "Epoch 1/10\n",
      "1875/1875 [==============================] - 5s 2ms/step - loss: 0.7353 - accuracy: 0.7893\n",
      "Epoch 2/10\n",
      "1875/1875 [==============================] - 4s 2ms/step - loss: 0.1753 - accuracy: 0.9476\n",
      "Epoch 3/10\n",
      "1875/1875 [==============================] - 5s 3ms/step - loss: 0.1433 - accuracy: 0.9567\n",
      "Epoch 4/10\n",
      "1875/1875 [==============================] - 5s 2ms/step - loss: 0.1244 - accuracy: 0.9628\n",
      "Epoch 5/10\n",
      "1875/1875 [==============================] - 4s 2ms/step - loss: 0.1104 - accuracy: 0.9671\n",
      "Epoch 6/10\n",
      "1875/1875 [==============================] - 4s 2ms/step - loss: 0.1067 - accuracy: 0.9682\n",
      "Epoch 7/10\n",
      "1875/1875 [==============================] - 5s 2ms/step - loss: 0.0970 - accuracy: 0.9709\n",
      "Epoch 8/10\n",
      "1875/1875 [==============================] - 5s 3ms/step - loss: 0.0937 - accuracy: 0.9722\n",
      "Epoch 9/10\n",
      "1875/1875 [==============================] - 4s 2ms/step - loss: 0.0911 - accuracy: 0.9742\n",
      "Epoch 10/10\n",
      "1875/1875 [==============================] - 4s 2ms/step - loss: 0.0795 - accuracy: 0.9766\n"
     ]
    },
    {
     "data": {
      "text/plain": [
       "<tensorflow.python.keras.callbacks.History at 0x2740dc97220>"
      ]
     },
     "execution_count": 20,
     "metadata": {},
     "output_type": "execute_result"
    }
   ],
   "source": [
    "#build the model\n",
    "model_rms_sparse = keras.Sequential([\n",
    "    keras.layers.Flatten(input_shape=(28, 28)),  # input layer (1)\n",
    "    keras.layers.Dense(128, activation='sigmoid'),  # hidden layer (2)\n",
    "    keras.layers.Dense(10, activation='sigmoid') # output layer (3)\n",
    "])\n",
    "\n",
    "#compile model\n",
    "model_rms_sparse.compile(optimizer='RMSprop', loss='sparse_categorical_crossentropy', metrics=['accuracy'])\n",
    "\n",
    "#fit model\n",
    "model_rms_sparse.fit(train_data, train_label, epochs=10)"
   ]
  },
  {
   "cell_type": "code",
   "execution_count": 21,
   "metadata": {},
   "outputs": [
    {
     "name": "stdout",
     "output_type": "stream",
     "text": [
      "313/313 [==============================] - 1s 1ms/step - loss: 0.1027 - accuracy: 0.9715\n"
     ]
    }
   ],
   "source": [
    "test_loss_g, test_acc_g = model_rms_sparse.evaluate(test_data,  test_label, verbose=1) "
   ]
  },
  {
   "cell_type": "markdown",
   "metadata": {},
   "source": [
    "##### Model H\n",
    "##### Loss - Poisson\n",
    "##### Optimizer - RMS Prop"
   ]
  },
  {
   "cell_type": "code",
   "execution_count": 22,
   "metadata": {},
   "outputs": [
    {
     "name": "stdout",
     "output_type": "stream",
     "text": [
      "Epoch 1/10\n",
      "1875/1875 [==============================] - 6s 3ms/step - loss: 1.0279 - accuracy: 0.0847\n",
      "Epoch 2/10\n",
      "1875/1875 [==============================] - 4s 2ms/step - loss: 1.0000 - accuracy: 0.0757\n",
      "Epoch 3/10\n",
      "1875/1875 [==============================] - 4s 2ms/step - loss: 1.0000 - accuracy: 0.0644\n",
      "Epoch 4/10\n",
      "1875/1875 [==============================] - 4s 2ms/step - loss: 1.0000 - accuracy: 0.0717\n",
      "Epoch 5/10\n",
      "1875/1875 [==============================] - 4s 2ms/step - loss: 1.0000 - accuracy: 0.0748\n",
      "Epoch 6/10\n",
      "1875/1875 [==============================] - 4s 2ms/step - loss: 1.0000 - accuracy: 0.0679\n",
      "Epoch 7/10\n",
      "1875/1875 [==============================] - 4s 2ms/step - loss: 1.0000 - accuracy: 0.0639\n",
      "Epoch 8/10\n",
      "1875/1875 [==============================] - 5s 3ms/step - loss: 1.0000 - accuracy: 0.0778\n",
      "Epoch 9/10\n",
      "1875/1875 [==============================] - 4s 2ms/step - loss: 1.0000 - accuracy: 0.0770\n",
      "Epoch 10/10\n",
      "1875/1875 [==============================] - 5s 2ms/step - loss: 1.0000 - accuracy: 0.0783\n"
     ]
    },
    {
     "data": {
      "text/plain": [
       "<tensorflow.python.keras.callbacks.History at 0x2740e081a60>"
      ]
     },
     "execution_count": 22,
     "metadata": {},
     "output_type": "execute_result"
    }
   ],
   "source": [
    "#build the model\n",
    "model_rms_poisson = keras.Sequential([\n",
    "    keras.layers.Flatten(input_shape=(28, 28)),  # input layer (1)\n",
    "    keras.layers.Dense(128, activation='sigmoid'),  # hidden layer (2)\n",
    "    keras.layers.Dense(10, activation='sigmoid') # output layer (3)\n",
    "])\n",
    "\n",
    "#compile model\n",
    "model_rms_poisson.compile(optimizer='RMSprop', loss='poisson', metrics=['accuracy'])\n",
    "\n",
    "#fit model\n",
    "model_rms_poisson.fit(train_data, train_label, epochs=10)"
   ]
  },
  {
   "cell_type": "code",
   "execution_count": 23,
   "metadata": {},
   "outputs": [
    {
     "name": "stdout",
     "output_type": "stream",
     "text": [
      "313/313 [==============================] - 1s 2ms/step - loss: 1.0000 - accuracy: 0.0860\n"
     ]
    }
   ],
   "source": [
    "test_loss_h, test_acc_h = model_rms_poisson.evaluate(test_data,  test_label, verbose=1) "
   ]
  },
  {
   "cell_type": "markdown",
   "metadata": {},
   "source": [
    "##### Model I\n",
    "##### Loss - KL Divergence\n",
    "##### Optimizer - RMS Prop"
   ]
  },
  {
   "cell_type": "code",
   "execution_count": 24,
   "metadata": {},
   "outputs": [
    {
     "name": "stdout",
     "output_type": "stream",
     "text": [
      "Epoch 1/10\n",
      "1875/1875 [==============================] - 5s 3ms/step - loss: 0.0906 - accuracy: 0.1033\n",
      "Epoch 2/10\n",
      "1875/1875 [==============================] - 4s 2ms/step - loss: -1.6146e-06 - accuracy: 0.0994\n",
      "Epoch 3/10\n",
      "1875/1875 [==============================] - 4s 2ms/step - loss: -1.6033e-06 - accuracy: 0.0988\n",
      "Epoch 4/10\n",
      "1875/1875 [==============================] - 4s 2ms/step - loss: -1.6158e-06 - accuracy: 0.0993\n",
      "Epoch 5/10\n",
      "1875/1875 [==============================] - 5s 2ms/step - loss: -1.6107e-06 - accuracy: 0.0988\n",
      "Epoch 6/10\n",
      "1875/1875 [==============================] - 4s 2ms/step - loss: -1.5513e-06 - accuracy: 0.0954\n",
      "Epoch 7/10\n",
      "1875/1875 [==============================] - 4s 2ms/step - loss: -1.5886e-06 - accuracy: 0.0975\n",
      "Epoch 8/10\n",
      "1875/1875 [==============================] - 5s 2ms/step - loss: -1.6096e-06 - accuracy: 0.0988\n",
      "Epoch 9/10\n",
      "1875/1875 [==============================] - 5s 2ms/step - loss: -1.6058e-06 - accuracy: 0.0984\n",
      "Epoch 10/10\n",
      "1875/1875 [==============================] - 5s 2ms/step - loss: -1.5931e-06 - accuracy: 0.0979\n"
     ]
    },
    {
     "data": {
      "text/plain": [
       "<tensorflow.python.keras.callbacks.History at 0x2740d6534c0>"
      ]
     },
     "execution_count": 24,
     "metadata": {},
     "output_type": "execute_result"
    }
   ],
   "source": [
    "#build the model\n",
    "model_rms_kl = keras.Sequential([\n",
    "    keras.layers.Flatten(input_shape=(28, 28)),  # input layer (1)\n",
    "    keras.layers.Dense(128, activation='sigmoid'),  # hidden layer (2)\n",
    "    keras.layers.Dense(10, activation='sigmoid') # output layer (3)\n",
    "])\n",
    "\n",
    "#compile model\n",
    "model_rms_kl.compile(optimizer='RMSprop', loss='kl_divergence', metrics=['accuracy'])\n",
    "\n",
    "#fit model\n",
    "model_rms_kl.fit(train_data, train_label, epochs=10)"
   ]
  },
  {
   "cell_type": "code",
   "execution_count": 25,
   "metadata": {},
   "outputs": [
    {
     "name": "stdout",
     "output_type": "stream",
     "text": [
      "313/313 [==============================] - 1s 1ms/step - loss: -1.6118e-06 - accuracy: 0.0995\n"
     ]
    }
   ],
   "source": [
    "test_loss_i, test_acc_i = model_rms_kl.evaluate(test_data,  test_label, verbose=1) "
   ]
  },
  {
   "cell_type": "markdown",
   "metadata": {},
   "source": [
    "### Accuracy Percentage Table"
   ]
  },
  {
   "cell_type": "code",
   "execution_count": 26,
   "metadata": {},
   "outputs": [],
   "source": [
    "accuracy_table = []\n",
    "accuracy_table.append(['','sparse categorical crossentropy','Poisson','KL Divergence'])\n",
    "\n",
    "accuracy_table.append(['Adam',str(np.round(test_acc_a*100,2))+\"%\",str(np.round(test_acc_b*100,2))+\"%\",str(np.round(test_acc_c*100,2))+\"%\"])\n",
    "accuracy_table.append(['SGD',str(np.round(test_acc_d*100,2))+\"%\",str(np.round(test_acc_e*100,2))+\"%\",str(np.round(test_acc_f*100,2))+\"%\"])\n",
    "accuracy_table.append(['RMS Prop',str(np.round(test_acc_g*100,2))+\"%\",str(np.round(test_acc_h*100,2))+\"%\",str(np.round(test_acc_i*100,2))+\"%\"])"
   ]
  },
  {
   "cell_type": "code",
   "execution_count": 27,
   "metadata": {},
   "outputs": [
    {
     "name": "stdout",
     "output_type": "stream",
     "text": [
      "|          |  sparse categorical crossentropy  |  Poisson  |  KL Divergence  |\n",
      "|----------+-----------------------------------+-----------+-----------------|\n",
      "|   Adam   |              97.11%               |   6.63%   |      8.64%      |\n",
      "|   SGD    |              95.04%               |   10.5%   |      10.7%      |\n",
      "| RMS Prop |              97.15%               |   8.6%    |      9.95%      |\n"
     ]
    }
   ],
   "source": [
    "print(tabulate(accuracy_table,headers=\"firstrow\", tablefmt=\"orgtbl\", colalign=(\"center\", \"center\", \"center\", \"center\")))"
   ]
  },
  {
   "cell_type": "markdown",
   "metadata": {},
   "source": [
    "### Visual Predictions\n",
    "Since the model with best accuracy is RMS_Sparce model, therefore that'll be used to visualize the predictions"
   ]
  },
  {
   "cell_type": "code",
   "execution_count": 31,
   "metadata": {},
   "outputs": [],
   "source": [
    "predictions = model_rms_sparse.predict(test_data)"
   ]
  },
  {
   "cell_type": "code",
   "execution_count": 32,
   "metadata": {},
   "outputs": [],
   "source": [
    "predict_labels = []\n",
    "for predict in predictions:\n",
    "    predict_labels.append(np.argmax(predict))"
   ]
  },
  {
   "cell_type": "code",
   "execution_count": 33,
   "metadata": {},
   "outputs": [
    {
     "data": {
      "image/png": "[encoded data removed]",
      "text/plain": [
       "<Figure size 720x720 with 30 Axes>"
      ]
     },
     "metadata": {
      "needs_background": "light"
     },
     "output_type": "display_data"
    }
   ],
   "source": [
    "_, axs = plt.subplots(10,3, figsize=(10, 10), constrained_layout=True)\n",
    "axs = axs.flatten()\n",
    "i = 0\n",
    "for img, pred_label, actual_label, ax in zip(test_data[:30], predict_labels[:30], test_label[:30], axs):\n",
    "    title = \"Pred: \" + class_names[pred_label] + \" Actual: \" + class_names[actual_label]\n",
    "    ax.set_title(title)\n",
    "    ax.imshow(img)\n",
    "plt.show()"
   ]
  },
  {
   "cell_type": "markdown",
   "metadata": {},
   "source": [
    "## Conclusion\n",
    "On comparing the accuracy percentages of 9 different models built using different pairs of optimization and loss function, the results show that models built with sparse categorical crossentropy loss function performed well and had 95 - 97 % test accuracy as compared to other models who showed maximum accuracy of 6 - 11 %.\n",
    "The model with optimization function RMSProp and loss function sparse categorical performed the best and gave 97.15% accuracy."
   ]
  }
 ],
 "metadata": {
  "kernelspec": {
   "display_name": "Python 3",
   "language": "python",
   "name": "python3"
  },
  "language_info": {
   "codemirror_mode": {
    "name": "ipython",
    "version": 3
   },
   "file_extension": ".py",
   "mimetype": "text/x-python",
   "name": "python",
   "nbconvert_exporter": "python",
   "pygments_lexer": "ipython3",
   "version": "3.8.3"
  }
 },
 "nbformat": 4,
 "nbformat_minor": 4
}
